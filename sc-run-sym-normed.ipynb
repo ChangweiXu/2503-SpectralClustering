{
 "cells": [
  {
   "cell_type": "code",
   "execution_count": 8,
   "metadata": {},
   "outputs": [],
   "source": [
    "from sc_func import *"
   ]
  },
  {
   "cell_type": "code",
   "execution_count": 9,
   "metadata": {},
   "outputs": [],
   "source": [
    "use_data = 'olivetti'"
   ]
  },
  {
   "cell_type": "code",
   "execution_count": 10,
   "metadata": {},
   "outputs": [
    {
     "name": "stdout",
     "output_type": "stream",
     "text": [
      "sym-normed --> olivetti, k= 4, acc= 64.50%, time elapsed: 0.5 s.\n",
      "sym-normed --> olivetti, k= 4, acc= 66.00%, time elapsed: 0.6 s.\n",
      "sym-normed --> olivetti, k= 4, acc= 63.75%, time elapsed: 0.7 s.\n",
      "sym-normed --> olivetti, k= 4, acc= 64.75%, time elapsed: 0.5 s.\n",
      "sym-normed --> olivetti, k= 4, acc= 64.25%, time elapsed: 0.7 s.\n",
      "Stats: mean=64.65, half range=1.12\n"
     ]
    }
   ],
   "source": [
    "acc_list = []\n",
    "for _ in range(5):\n",
    "    acc_list.append(test_sc_round(use_data, 4, 'sym-normed') * 100)\n",
    "    # time.sleep(1)\n",
    "print(f'Stats: mean={np.mean(acc_list):.2f}, half range={np.ptp(acc_list)/2:.2f}')"
   ]
  },
  {
   "cell_type": "code",
   "execution_count": 11,
   "metadata": {},
   "outputs": [
    {
     "name": "stdout",
     "output_type": "stream",
     "text": [
      "sym-normed --> olivetti, k= 5, acc= 66.25%, time elapsed: 0.5 s.\n",
      "sym-normed --> olivetti, k= 5, acc= 66.25%, time elapsed: 0.8 s.\n",
      "sym-normed --> olivetti, k= 5, acc= 64.75%, time elapsed: 0.6 s.\n",
      "sym-normed --> olivetti, k= 5, acc= 65.50%, time elapsed: 0.5 s.\n",
      "sym-normed --> olivetti, k= 5, acc= 64.25%, time elapsed: 0.6 s.\n",
      "Stats: mean=65.40, half range=1.00\n"
     ]
    }
   ],
   "source": [
    "acc_list = []\n",
    "for _ in range(5):\n",
    "    acc_list.append(test_sc_round(use_data, 5, 'sym-normed') * 100)\n",
    "    # time.sleep(1)\n",
    "print(f'Stats: mean={np.mean(acc_list):.2f}, half range={np.ptp(acc_list)/2:.2f}')"
   ]
  },
  {
   "cell_type": "code",
   "execution_count": 12,
   "metadata": {},
   "outputs": [
    {
     "name": "stdout",
     "output_type": "stream",
     "text": [
      "sym-normed --> olivetti, k= 8, acc= 61.75%, time elapsed: 0.5 s.\n",
      "sym-normed --> olivetti, k= 8, acc= 60.75%, time elapsed: 0.6 s.\n",
      "sym-normed --> olivetti, k= 8, acc= 62.50%, time elapsed: 0.6 s.\n",
      "sym-normed --> olivetti, k= 8, acc= 59.75%, time elapsed: 0.6 s.\n",
      "sym-normed --> olivetti, k= 8, acc= 62.50%, time elapsed: 0.5 s.\n",
      "Stats: mean=61.45, half range=1.38\n"
     ]
    }
   ],
   "source": [
    "acc_list = []\n",
    "for _ in range(5):\n",
    "    acc_list.append(test_sc_round(use_data, 8, 'sym-normed') * 100)\n",
    "print(f'Stats: mean={np.mean(acc_list):.2f}, half range={np.ptp(acc_list)/2:.2f}')"
   ]
  },
  {
   "cell_type": "code",
   "execution_count": 13,
   "metadata": {},
   "outputs": [
    {
     "name": "stdout",
     "output_type": "stream",
     "text": [
      "sym-normed --> olivetti, k=10, acc= 60.50%, time elapsed: 0.7 s.\n",
      "sym-normed --> olivetti, k=10, acc= 61.25%, time elapsed: 0.6 s.\n",
      "sym-normed --> olivetti, k=10, acc= 59.00%, time elapsed: 0.7 s.\n",
      "sym-normed --> olivetti, k=10, acc= 60.00%, time elapsed: 0.5 s.\n",
      "sym-normed --> olivetti, k=10, acc= 60.75%, time elapsed: 0.6 s.\n",
      "Stats: mean=60.30, half range=1.12\n"
     ]
    }
   ],
   "source": [
    "acc_list = []\n",
    "for _ in range(5):\n",
    "    acc_list.append(test_sc_round(use_data, 10, 'sym-normed') * 100)\n",
    "print(f'Stats: mean={np.mean(acc_list):.2f}, half range={np.ptp(acc_list)/2:.2f}')"
   ]
  },
  {
   "cell_type": "code",
   "execution_count": 14,
   "metadata": {},
   "outputs": [
    {
     "name": "stdout",
     "output_type": "stream",
     "text": [
      "sym-normed --> olivetti, k=15, acc= 55.50%, time elapsed: 0.5 s.\n",
      "sym-normed --> olivetti, k=15, acc= 56.00%, time elapsed: 0.7 s.\n",
      "sym-normed --> olivetti, k=15, acc= 54.50%, time elapsed: 0.6 s.\n",
      "sym-normed --> olivetti, k=15, acc= 52.75%, time elapsed: 0.5 s.\n",
      "sym-normed --> olivetti, k=15, acc= 57.75%, time elapsed: 0.6 s.\n",
      "Stats: mean=55.30, half range=2.50\n"
     ]
    }
   ],
   "source": [
    "acc_list = []\n",
    "for _ in range(5):\n",
    "    acc_list.append(test_sc_round(use_data, 15, 'sym-normed') * 100)\n",
    "print(f'Stats: mean={np.mean(acc_list):.2f}, half range={np.ptp(acc_list)/2:.2f}')"
   ]
  }
 ],
 "metadata": {
  "kernelspec": {
   "display_name": "workspace",
   "language": "python",
   "name": "python3"
  },
  "language_info": {
   "codemirror_mode": {
    "name": "ipython",
    "version": 3
   },
   "file_extension": ".py",
   "mimetype": "text/x-python",
   "name": "python",
   "nbconvert_exporter": "python",
   "pygments_lexer": "ipython3",
   "version": "3.8.11"
  }
 },
 "nbformat": 4,
 "nbformat_minor": 2
}
