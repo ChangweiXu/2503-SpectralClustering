{
 "cells": [
  {
   "cell_type": "code",
   "execution_count": 8,
   "metadata": {},
   "outputs": [],
   "source": [
    "from sc_func import *"
   ]
  },
  {
   "cell_type": "code",
   "execution_count": 9,
   "metadata": {},
   "outputs": [],
   "source": [
    "use_data = 'olivetti'"
   ]
  },
  {
   "cell_type": "code",
   "execution_count": 10,
   "metadata": {},
   "outputs": [
    {
     "name": "stdout",
     "output_type": "stream",
     "text": [
      "  unnormed --> olivetti, k= 4, acc= 61.25%, time elapsed: 0.4 s.\n",
      "  unnormed --> olivetti, k= 4, acc= 60.25%, time elapsed: 0.3 s.\n",
      "  unnormed --> olivetti, k= 4, acc= 58.50%, time elapsed: 0.4 s.\n",
      "  unnormed --> olivetti, k= 4, acc= 59.75%, time elapsed: 0.3 s.\n",
      "  unnormed --> olivetti, k= 4, acc= 60.50%, time elapsed: 0.4 s.\n",
      "Stats: mean=60.05, half range=1.38\n"
     ]
    }
   ],
   "source": [
    "acc_list = []\n",
    "for _ in range(5):\n",
    "    acc_list.append(test_sc_round(use_data, 4, 'unnormed') * 100)\n",
    "print(f'Stats: mean={np.mean(acc_list):.2f}, half range={np.ptp(acc_list)/2:.2f}')"
   ]
  },
  {
   "cell_type": "code",
   "execution_count": 11,
   "metadata": {},
   "outputs": [
    {
     "name": "stdout",
     "output_type": "stream",
     "text": [
      "  unnormed --> olivetti, k= 5, acc= 62.25%, time elapsed: 0.4 s.\n",
      "  unnormed --> olivetti, k= 5, acc= 61.50%, time elapsed: 0.4 s.\n",
      "  unnormed --> olivetti, k= 5, acc= 63.00%, time elapsed: 0.4 s.\n",
      "  unnormed --> olivetti, k= 5, acc= 61.75%, time elapsed: 0.4 s.\n",
      "  unnormed --> olivetti, k= 5, acc= 62.75%, time elapsed: 0.4 s.\n",
      "Stats: mean=62.25, half range=0.75\n"
     ]
    }
   ],
   "source": [
    "acc_list = []\n",
    "for _ in range(5):\n",
    "    acc_list.append(test_sc_round(use_data, 5, 'unnormed') * 100)\n",
    "print(f'Stats: mean={np.mean(acc_list):.2f}, half range={np.ptp(acc_list)/2:.2f}')"
   ]
  },
  {
   "cell_type": "code",
   "execution_count": 12,
   "metadata": {},
   "outputs": [
    {
     "name": "stdout",
     "output_type": "stream",
     "text": [
      "  unnormed --> olivetti, k= 8, acc= 58.75%, time elapsed: 0.4 s.\n",
      "  unnormed --> olivetti, k= 8, acc= 59.00%, time elapsed: 0.3 s.\n",
      "  unnormed --> olivetti, k= 8, acc= 58.75%, time elapsed: 0.4 s.\n",
      "  unnormed --> olivetti, k= 8, acc= 59.50%, time elapsed: 0.4 s.\n",
      "  unnormed --> olivetti, k= 8, acc= 58.75%, time elapsed: 0.3 s.\n",
      "Stats: mean=58.95, half range=0.38\n"
     ]
    }
   ],
   "source": [
    "acc_list = []\n",
    "for _ in range(5):\n",
    "    acc_list.append(test_sc_round(use_data, 8, 'unnormed') * 100)\n",
    "print(f'Stats: mean={np.mean(acc_list):.2f}, half range={np.ptp(acc_list)/2:.2f}')"
   ]
  },
  {
   "cell_type": "code",
   "execution_count": 13,
   "metadata": {},
   "outputs": [
    {
     "name": "stdout",
     "output_type": "stream",
     "text": [
      "  unnormed --> olivetti, k=10, acc= 58.25%, time elapsed: 0.4 s.\n",
      "  unnormed --> olivetti, k=10, acc= 58.25%, time elapsed: 0.4 s.\n",
      "  unnormed --> olivetti, k=10, acc= 56.25%, time elapsed: 0.3 s.\n",
      "  unnormed --> olivetti, k=10, acc= 59.25%, time elapsed: 0.3 s.\n",
      "  unnormed --> olivetti, k=10, acc= 58.75%, time elapsed: 0.4 s.\n",
      "Stats: mean=58.15, half range=1.50\n"
     ]
    }
   ],
   "source": [
    "acc_list = []\n",
    "for _ in range(5):\n",
    "    acc_list.append(test_sc_round(use_data, 10, 'unnormed') * 100)\n",
    "print(f'Stats: mean={np.mean(acc_list):.2f}, half range={np.ptp(acc_list)/2:.2f}')"
   ]
  },
  {
   "cell_type": "code",
   "execution_count": 14,
   "metadata": {},
   "outputs": [
    {
     "name": "stdout",
     "output_type": "stream",
     "text": [
      "  unnormed --> olivetti, k=15, acc= 52.50%, time elapsed: 0.4 s.\n",
      "  unnormed --> olivetti, k=15, acc= 51.75%, time elapsed: 0.4 s.\n",
      "  unnormed --> olivetti, k=15, acc= 51.75%, time elapsed: 0.4 s.\n",
      "  unnormed --> olivetti, k=15, acc= 47.75%, time elapsed: 0.4 s.\n",
      "  unnormed --> olivetti, k=15, acc= 51.50%, time elapsed: 0.4 s.\n",
      "Stats: mean=51.05, half range=2.38\n"
     ]
    }
   ],
   "source": [
    "acc_list = []\n",
    "for _ in range(5):\n",
    "    acc_list.append(test_sc_round(use_data, 15, 'unnormed') * 100)\n",
    "print(f'Stats: mean={np.mean(acc_list):.2f}, half range={np.ptp(acc_list)/2:.2f}')"
   ]
  }
 ],
 "metadata": {
  "kernelspec": {
   "display_name": "workspace",
   "language": "python",
   "name": "python3"
  },
  "language_info": {
   "codemirror_mode": {
    "name": "ipython",
    "version": 3
   },
   "file_extension": ".py",
   "mimetype": "text/x-python",
   "name": "python",
   "nbconvert_exporter": "python",
   "pygments_lexer": "ipython3",
   "version": "3.8.11"
  }
 },
 "nbformat": 4,
 "nbformat_minor": 2
}
