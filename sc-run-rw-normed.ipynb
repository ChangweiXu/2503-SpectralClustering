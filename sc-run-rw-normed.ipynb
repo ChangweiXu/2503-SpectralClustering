{
 "cells": [
  {
   "cell_type": "code",
   "execution_count": 1,
   "metadata": {},
   "outputs": [],
   "source": [
    "from sc_func import *"
   ]
  },
  {
   "cell_type": "code",
   "execution_count": 2,
   "metadata": {},
   "outputs": [],
   "source": [
    "use_data = 'olivetti'\n",
    "sleep_flag = False\n",
    "drop_first_eigen = False"
   ]
  },
  {
   "cell_type": "code",
   "execution_count": 3,
   "metadata": {},
   "outputs": [
    {
     "name": "stdout",
     "output_type": "stream",
     "text": [
      " rw-normed --> olivetti, k= 4, acc= 63.25%, time elapsed: 0.8 s.\n",
      " rw-normed --> olivetti, k= 4, acc= 63.25%, time elapsed: 0.6 s.\n",
      " rw-normed --> olivetti, k= 4, acc= 62.50%, time elapsed: 0.6 s.\n",
      " rw-normed --> olivetti, k= 4, acc= 63.00%, time elapsed: 0.6 s.\n",
      " rw-normed --> olivetti, k= 4, acc= 61.00%, time elapsed: 0.8 s.\n",
      "Stats: mean=62.60, half range=1.13\n"
     ]
    }
   ],
   "source": [
    "acc_list = []\n",
    "for _ in range(5):\n",
    "    acc_list.append(test_sc_round(use_data, 4, 'rw-normed', drop_first_eigen) * 100)\n",
    "    if sleep_flag: time.sleep(1)\n",
    "print(f'Stats: mean={np.mean(acc_list):.2f}, half range={np.ptp(acc_list)/2:.2f}')"
   ]
  },
  {
   "cell_type": "code",
   "execution_count": 4,
   "metadata": {},
   "outputs": [
    {
     "name": "stdout",
     "output_type": "stream",
     "text": [
      " rw-normed --> olivetti, k= 5, acc= 60.25%, time elapsed: 0.5 s.\n",
      " rw-normed --> olivetti, k= 5, acc= 63.25%, time elapsed: 0.7 s.\n",
      " rw-normed --> olivetti, k= 5, acc= 65.25%, time elapsed: 0.6 s.\n",
      " rw-normed --> olivetti, k= 5, acc= 63.00%, time elapsed: 0.6 s.\n",
      " rw-normed --> olivetti, k= 5, acc= 62.50%, time elapsed: 0.5 s.\n",
      "Stats: mean=62.85, half range=2.50\n"
     ]
    }
   ],
   "source": [
    "acc_list = []\n",
    "for _ in range(5):\n",
    "    acc_list.append(test_sc_round(use_data, 5, 'rw-normed', drop_first_eigen) * 100)\n",
    "    if sleep_flag: time.sleep(1)\n",
    "print(f'Stats: mean={np.mean(acc_list):.2f}, half range={np.ptp(acc_list)/2:.2f}')"
   ]
  },
  {
   "cell_type": "code",
   "execution_count": 5,
   "metadata": {},
   "outputs": [
    {
     "name": "stdout",
     "output_type": "stream",
     "text": [
      " rw-normed --> olivetti, k= 8, acc= 61.00%, time elapsed: 0.5 s.\n",
      " rw-normed --> olivetti, k= 8, acc= 61.50%, time elapsed: 0.6 s.\n",
      " rw-normed --> olivetti, k= 8, acc= 57.75%, time elapsed: 0.6 s.\n",
      " rw-normed --> olivetti, k= 8, acc= 61.00%, time elapsed: 0.5 s.\n",
      " rw-normed --> olivetti, k= 8, acc= 60.50%, time elapsed: 0.6 s.\n",
      "Stats: mean=60.35, half range=1.88\n"
     ]
    }
   ],
   "source": [
    "acc_list = []\n",
    "for _ in range(5):\n",
    "    acc_list.append(test_sc_round(use_data, 8, 'rw-normed', drop_first_eigen) * 100)\n",
    "    if sleep_flag: time.sleep(1)\n",
    "print(f'Stats: mean={np.mean(acc_list):.2f}, half range={np.ptp(acc_list)/2:.2f}')"
   ]
  },
  {
   "cell_type": "code",
   "execution_count": 6,
   "metadata": {},
   "outputs": [
    {
     "name": "stdout",
     "output_type": "stream",
     "text": [
      " rw-normed --> olivetti, k=10, acc= 59.25%, time elapsed: 0.7 s.\n",
      " rw-normed --> olivetti, k=10, acc= 57.50%, time elapsed: 0.5 s.\n",
      " rw-normed --> olivetti, k=10, acc= 57.75%, time elapsed: 0.5 s.\n",
      " rw-normed --> olivetti, k=10, acc= 59.50%, time elapsed: 0.6 s.\n",
      " rw-normed --> olivetti, k=10, acc= 60.25%, time elapsed: 0.8 s.\n",
      "Stats: mean=58.85, half range=1.38\n"
     ]
    }
   ],
   "source": [
    "acc_list = []\n",
    "for _ in range(5):\n",
    "    acc_list.append(test_sc_round(use_data, 10, 'rw-normed', drop_first_eigen) * 100)\n",
    "    if sleep_flag: time.sleep(1)\n",
    "print(f'Stats: mean={np.mean(acc_list):.2f}, half range={np.ptp(acc_list)/2:.2f}')"
   ]
  },
  {
   "cell_type": "code",
   "execution_count": 7,
   "metadata": {},
   "outputs": [
    {
     "name": "stdout",
     "output_type": "stream",
     "text": [
      " rw-normed --> olivetti, k=15, acc= 56.75%, time elapsed: 0.6 s.\n",
      " rw-normed --> olivetti, k=15, acc= 57.00%, time elapsed: 0.5 s.\n",
      " rw-normed --> olivetti, k=15, acc= 57.50%, time elapsed: 0.8 s.\n",
      " rw-normed --> olivetti, k=15, acc= 53.75%, time elapsed: 0.5 s.\n",
      " rw-normed --> olivetti, k=15, acc= 59.25%, time elapsed: 0.6 s.\n",
      "Stats: mean=56.85, half range=2.75\n"
     ]
    }
   ],
   "source": [
    "acc_list = []\n",
    "for _ in range(5):\n",
    "    acc_list.append(test_sc_round(use_data, 15, 'rw-normed', drop_first_eigen) * 100)\n",
    "    if sleep_flag: time.sleep(1)\n",
    "print(f'Stats: mean={np.mean(acc_list):.2f}, half range={np.ptp(acc_list)/2:.2f}')"
   ]
  }
 ],
 "metadata": {
  "kernelspec": {
   "display_name": "workspace",
   "language": "python",
   "name": "python3"
  },
  "language_info": {
   "codemirror_mode": {
    "name": "ipython",
    "version": 3
   },
   "file_extension": ".py",
   "mimetype": "text/x-python",
   "name": "python",
   "nbconvert_exporter": "python",
   "pygments_lexer": "ipython3",
   "version": "3.8.11"
  }
 },
 "nbformat": 4,
 "nbformat_minor": 2
}
